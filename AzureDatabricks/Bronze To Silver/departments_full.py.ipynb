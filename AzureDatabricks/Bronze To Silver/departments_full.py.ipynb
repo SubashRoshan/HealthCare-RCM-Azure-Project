{
 "cells": [
  {
   "cell_type": "code",
   "execution_count": 0,
   "metadata": {
    "application/vnd.databricks.v1+cell": {
     "cellMetadata": {
      "byteLimit": 2048000,
      "rowLimit": 10000
     },
     "inputWidgets": {},
     "nuid": "20a89b2a-1f92-4b44-a09f-d4f7f723cc4b",
     "showTitle": false,
     "tableResultSettingsMap": {},
     "title": ""
    }
   },
   "outputs": [],
   "source": [
    "# Databricks notebook source\n",
    "from pyspark.sql import SparkSession, functions as f\n",
    "\n",
    "#Reading Hospital A departments data \n",
    "df_hosa=spark.read.parquet(\"/mnt/bronze/healthCare_hospital_a/departments\")\n",
    "\n",
    "#Reading Hospital B departments data \n",
    "df_hosb=spark.read.parquet(\"/mnt/bronze/healthCare_hospital_b/departments\")\n",
    "\n",
    "#union two departments dataframes\n",
    "df_merged = df_hosa.unionByName(df_hosb)\n",
    "\n",
    "# Create the dept_id column and rename deptid to src_dept_id\n",
    "df_merged = df_merged.withColumn(\"SRC_Dept_id\", f.col(\"deptid\")) \\\n",
    "                     .withColumn(\"Dept_id\", f.concat(f.col(\"deptid\"),f.lit('-'), f.col(\"datasource\"))) \\\n",
    "                     .drop(\"deptid\")\n",
    "\n",
    "df_merged.createOrReplaceTempView(\"departments\")"
   ]
  },
  {
   "cell_type": "code",
   "execution_count": 0,
   "metadata": {
    "application/vnd.databricks.v1+cell": {
     "cellMetadata": {
      "byteLimit": 2048000,
      "implicitDf": true,
      "rowLimit": 10000
     },
     "inputWidgets": {},
     "nuid": "1648b32f-e4e6-4723-81fa-b0d75c405727",
     "showTitle": false,
     "tableResultSettingsMap": {},
     "title": ""
    }
   },
   "outputs": [],
   "source": [
    "%sql\n",
    "CREATE DATABASE IF NOT EXISTS silver;\n",
    "\n",
    "CREATE TABLE IF NOT EXISTS silver.departments (\n",
    "Dept_Id string,\n",
    "SRC_Dept_Id string,\n",
    "Name string,\n",
    "datasource string,\n",
    "is_quarantined boolean\n",
    ")\n",
    "USING DELTA;"
   ]
  },
  {
   "cell_type": "code",
   "execution_count": 0,
   "metadata": {
    "application/vnd.databricks.v1+cell": {
     "cellMetadata": {
      "byteLimit": 2048000,
      "implicitDf": true,
      "rowLimit": 10000
     },
     "inputWidgets": {},
     "nuid": "04d525ef-197d-42b4-9481-e0dbe1c636a3",
     "showTitle": false,
     "tableResultSettingsMap": {},
     "title": ""
    }
   },
   "outputs": [],
   "source": [
    "%sql\n",
    "TRUNCATE TABLE silver.departments;"
   ]
  },
  {
   "cell_type": "code",
   "execution_count": 0,
   "metadata": {
    "application/vnd.databricks.v1+cell": {
     "cellMetadata": {
      "byteLimit": 2048000,
      "implicitDf": true,
      "rowLimit": 10000
     },
     "inputWidgets": {},
     "nuid": "08aedec9-95c6-4345-8570-590e5e31bd92",
     "showTitle": false,
     "tableResultSettingsMap": {},
     "title": ""
    }
   },
   "outputs": [],
   "source": [
    "%sql\n",
    "INSERT INTO silver.departments\n",
    "SELECT \n",
    "Dept_Id,\n",
    "SRC_Dept_Id,\n",
    "Name,\n",
    "Datasource,\n",
    "    CASE \n",
    "        WHEN SRC_Dept_Id IS NULL OR Name IS NULL THEN TRUE\n",
    "        ELSE FALSE\n",
    "    END AS is_quarantined\n",
    "FROM departments"
   ]
  },
  {
   "cell_type": "code",
   "execution_count": 0,
   "metadata": {
    "application/vnd.databricks.v1+cell": {
     "cellMetadata": {
      "byteLimit": 2048000,
      "implicitDf": true,
      "rowLimit": 10000
     },
     "inputWidgets": {},
     "nuid": "044502fb-b96a-4721-a0f9-c588eab6e3e0",
     "showTitle": false,
     "tableResultSettingsMap": {},
     "title": ""
    }
   },
   "outputs": [],
   "source": [
    "%sql\n",
    "select * from silver.departments"
   ]
  }
 ],
 "metadata": {
  "application/vnd.databricks.v1+notebook": {
   "computePreferences": null,
   "dashboards": [],
   "environmentMetadata": {
    "base_environment": "",
    "environment_version": "2"
   },
   "language": "python",
   "notebookMetadata": {
    "mostRecentlyExecutedCommandWithImplicitDF": {
     "commandId": 7552334522855187,
     "dataframes": [
      "_sqldf"
     ]
    },
    "pythonIndentUnit": 4
   },
   "notebookName": "departments_full.py",
   "widgets": {}
  },
  "language_info": {
   "name": "python"
  }
 },
 "nbformat": 4,
 "nbformat_minor": 0
}
