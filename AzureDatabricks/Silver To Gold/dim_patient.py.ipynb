{
 "cells": [
  {
   "cell_type": "code",
   "execution_count": 0,
   "metadata": {
    "application/vnd.databricks.v1+cell": {
     "cellMetadata": {
      "byteLimit": 2048000,
      "implicitDf": true,
      "rowLimit": 10000
     },
     "inputWidgets": {},
     "nuid": "3bc8548d-f09c-40e9-8389-f0c5aff251a1",
     "showTitle": false,
     "tableResultSettingsMap": {},
     "title": ""
    }
   },
   "outputs": [],
   "source": [
    "%sql\n",
    "CREATE TABLE IF NOT EXISTS gold.dim_patient\n",
    "(\n",
    "    patient_key STRING,\n",
    "    src_patientid STRING,\n",
    "    firstname STRING,\n",
    "    lastname STRING,\n",
    "    middlename STRING,\n",
    "    ssn STRING,\n",
    "    phonenumber STRING,\n",
    "    gender STRING,\n",
    "    dob DATE,\n",
    "    address STRING,\n",
    "    datasource STRING\n",
    ")"
   ]
  },
  {
   "cell_type": "code",
   "execution_count": 0,
   "metadata": {
    "application/vnd.databricks.v1+cell": {
     "cellMetadata": {
      "byteLimit": 2048000,
      "implicitDf": true,
      "rowLimit": 10000
     },
     "inputWidgets": {},
     "nuid": "e282ac2b-bb55-4094-a30d-536076558429",
     "showTitle": false,
     "tableResultSettingsMap": {},
     "title": ""
    }
   },
   "outputs": [],
   "source": [
    "%sql \n",
    "truncate TABLE gold.dim_patient"
   ]
  },
  {
   "cell_type": "code",
   "execution_count": 0,
   "metadata": {
    "application/vnd.databricks.v1+cell": {
     "cellMetadata": {
      "byteLimit": 2048000,
      "implicitDf": true,
      "rowLimit": 10000
     },
     "inputWidgets": {},
     "nuid": "f5fe01e3-e207-4069-8015-ea93b1af4a86",
     "showTitle": false,
     "tableResultSettingsMap": {},
     "title": ""
    }
   },
   "outputs": [],
   "source": [
    "%sql\n",
    "insert into gold.dim_patient\n",
    "select \n",
    "     patient_key ,\n",
    "    src_patientid ,\n",
    "    firstname ,\n",
    "    lastname ,\n",
    "    middlename ,\n",
    "    ssn ,\n",
    "    phonenumber ,\n",
    "    gender ,\n",
    "    dob ,\n",
    "    address ,\n",
    "    datasource \n",
    " from silver.patients\n",
    " where is_current=true and is_quarantined=false"
   ]
  }
 ],
 "metadata": {
  "application/vnd.databricks.v1+notebook": {
   "computePreferences": null,
   "dashboards": [],
   "environmentMetadata": {
    "base_environment": "",
    "environment_version": "2"
   },
   "language": "python",
   "notebookMetadata": {
    "mostRecentlyExecutedCommandWithImplicitDF": {
     "commandId": 7498786800897660,
     "dataframes": [
      "_sqldf"
     ]
    },
    "pythonIndentUnit": 4
   },
   "notebookName": "dim_patient.py",
   "widgets": {}
  },
  "language_info": {
   "name": "python"
  }
 },
 "nbformat": 4,
 "nbformat_minor": 0
}
